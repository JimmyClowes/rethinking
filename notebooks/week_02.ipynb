{
 "metadata": {
  "language_info": {
   "codemirror_mode": {
    "name": "ipython",
    "version": 3
   },
   "file_extension": ".py",
   "mimetype": "text/x-python",
   "name": "python",
   "nbconvert_exporter": "python",
   "pygments_lexer": "ipython3",
   "version": "3.8.8"
  },
  "orig_nbformat": 2,
  "kernelspec": {
   "name": "python388jvsc74a57bd098b0a9b7b4eaaa670588a142fd0a9b87eaafe866f1db4228be72b4211d12040f",
   "display_name": "Python 3.8.8 64-bit ('base': conda)"
  }
 },
 "nbformat": 4,
 "nbformat_minor": 2,
 "cells": [
  {
   "cell_type": "code",
   "execution_count": 1,
   "metadata": {},
   "outputs": [],
   "source": [
    "import numpy as np\n",
    "import pandas as pd"
   ]
  },
  {
   "cell_type": "code",
   "execution_count": 2,
   "metadata": {},
   "outputs": [],
   "source": [
    "import nest_asyncio\n",
    "nest_asyncio.apply()"
   ]
  },
  {
   "cell_type": "code",
   "execution_count": 3,
   "metadata": {},
   "outputs": [],
   "source": [
    "bpath = '~/source/rethinking/'"
   ]
  },
  {
   "cell_type": "code",
   "execution_count": 4,
   "metadata": {},
   "outputs": [],
   "source": [
    "df = pd.read_csv(bpath + 'data/Howell1.csv', sep=';')"
   ]
  },
  {
   "cell_type": "code",
   "execution_count": 5,
   "metadata": {},
   "outputs": [
    {
     "output_type": "execute_result",
     "data": {
      "text/plain": [
       "    height     weight   age  male\n",
       "0  151.765  47.825606  63.0     1\n",
       "1  139.700  36.485807  63.0     0\n",
       "2  136.525  31.864838  65.0     0\n",
       "3  156.845  53.041914  41.0     1\n",
       "4  145.415  41.276872  51.0     0"
      ],
      "text/html": "<div>\n<style scoped>\n    .dataframe tbody tr th:only-of-type {\n        vertical-align: middle;\n    }\n\n    .dataframe tbody tr th {\n        vertical-align: top;\n    }\n\n    .dataframe thead th {\n        text-align: right;\n    }\n</style>\n<table border=\"1\" class=\"dataframe\">\n  <thead>\n    <tr style=\"text-align: right;\">\n      <th></th>\n      <th>height</th>\n      <th>weight</th>\n      <th>age</th>\n      <th>male</th>\n    </tr>\n  </thead>\n  <tbody>\n    <tr>\n      <th>0</th>\n      <td>151.765</td>\n      <td>47.825606</td>\n      <td>63.0</td>\n      <td>1</td>\n    </tr>\n    <tr>\n      <th>1</th>\n      <td>139.700</td>\n      <td>36.485807</td>\n      <td>63.0</td>\n      <td>0</td>\n    </tr>\n    <tr>\n      <th>2</th>\n      <td>136.525</td>\n      <td>31.864838</td>\n      <td>65.0</td>\n      <td>0</td>\n    </tr>\n    <tr>\n      <th>3</th>\n      <td>156.845</td>\n      <td>53.041914</td>\n      <td>41.0</td>\n      <td>1</td>\n    </tr>\n    <tr>\n      <th>4</th>\n      <td>145.415</td>\n      <td>41.276872</td>\n      <td>51.0</td>\n      <td>0</td>\n    </tr>\n  </tbody>\n</table>\n</div>"
     },
     "metadata": {},
     "execution_count": 5
    }
   ],
   "source": [
    "df.head()"
   ]
  },
  {
   "cell_type": "code",
   "execution_count": 6,
   "metadata": {},
   "outputs": [],
   "source": [
    "df_a = df[df['age'] >= 18].copy()"
   ]
  },
  {
   "cell_type": "code",
   "execution_count": 7,
   "metadata": {},
   "outputs": [],
   "source": [
    "xbar = np.mean(df_a['weight'])"
   ]
  },
  {
   "cell_type": "code",
   "execution_count": 8,
   "metadata": {},
   "outputs": [],
   "source": [
    "df_a['centred_weight'] = df_a['weight'] - xbar"
   ]
  },
  {
   "cell_type": "code",
   "execution_count": 9,
   "metadata": {},
   "outputs": [],
   "source": [
    "import stan"
   ]
  },
  {
   "cell_type": "code",
   "execution_count": 10,
   "metadata": {},
   "outputs": [],
   "source": [
    "model_code = \"\"\"\n",
    "data {\n",
    "  int<lower=0> N;\n",
    "  vector[N] x;\n",
    "  vector[N] y;\n",
    "}\n",
    "parameters {\n",
    "  real alpha;\n",
    "  real beta;\n",
    "  real<lower=0, upper=50> sigma;\n",
    "}\n",
    "model {\n",
    "  y ~ normal(alpha + beta * x, sigma);\n",
    "  alpha ~ normal(178, 20);\n",
    "  beta ~ normal(0, 1);\n",
    "}\n",
    "\"\"\""
   ]
  },
  {
   "cell_type": "code",
   "execution_count": 11,
   "metadata": {},
   "outputs": [],
   "source": [
    "model_data = {\"N\": len(df_a),\n",
    "                \"x\": df_a['weight'].to_numpy(),\n",
    "                \"y\": df_a['height'].to_numpy()}\n"
   ]
  },
  {
   "cell_type": "code",
   "execution_count": 12,
   "metadata": {},
   "outputs": [
    {
     "output_type": "stream",
     "name": "stdout",
     "text": [
      "Building...\n",
      "\n",
      "Building: found in cache, done.Messages from stanc:\n",
      "Warning:\n",
      "  The parameter sigma has no priors.\n",
      "Warning:\n",
      "  Your Stan program has a parameter sigma with a lower and upper bound in its\n",
      "  declaration. These hard constraints are not recommended, for two reasons:\n",
      "  (a) Except when there are logical or physical constraints, it is very\n",
      "  unusual for you to be sure that a parameter will fall inside a specified\n",
      "  range, and (b) The infinite gradient induced by a hard constraint can cause\n",
      "  difficulties for Stan's sampling algorithm. As a consequence, we recommend\n",
      "  soft constraints rather than hard constraints; for example, instead of\n",
      "  constraining an elasticity parameter to fall between 0, and 1, leave it\n",
      "  unconstrained and give it a normal(0.5,0.5) prior distribution.\n",
      "Warning at '/tmp/httpstan_8l0at7av/model_jxl2kd43.stan', line 14, column 17 to column 20:\n",
      "  Argument 178 suggests there may be parameters that are not unit scale;\n",
      "  consider rescaling with a multiplier (see manual section 22.12).\n",
      "Warning at '/tmp/httpstan_8l0at7av/model_jxl2kd43.stan', line 14, column 22 to column 24:\n",
      "  Argument 20 suggests there may be parameters that are not unit scale;\n",
      "  consider rescaling with a multiplier (see manual section 22.12).\n"
     ]
    }
   ],
   "source": [
    "posterior = stan.build(model_code, data=model_data, random_seed=123)"
   ]
  },
  {
   "cell_type": "code",
   "execution_count": 13,
   "metadata": {},
   "outputs": [
    {
     "output_type": "stream",
     "name": "stderr",
     "text": [
      "Sampling:   0%\n",
      "Sampling:   1% (100/8000)\n",
      "Sampling:   2% (200/8000)\n",
      "Sampling:   3% (201/8000)\n",
      "Sampling:   4% (301/8000)\n",
      "Sampling:   5% (401/8000)\n",
      "Sampling:   6% (501/8000)\n",
      "Sampling:   8% (600/8000)\n",
      "Sampling:   9% (700/8000)\n",
      "Sampling:  10% (800/8000)\n",
      "Sampling:  10% (800/8000)\n",
      "Sampling:  11% (900/8000)\n",
      "Sampling:  12% (1000/8000)\n",
      "Sampling:  14% (1100/8000)\n",
      "Sampling:  15% (1200/8000)\n",
      "Sampling:  16% (1300/8000)\n",
      "Sampling:  18% (1400/8000)\n",
      "Sampling:  21% (1700/8000)\n",
      "Sampling:  24% (1900/8000)\n",
      "Sampling:  25% (2000/8000)\n",
      "Sampling:  28% (2200/8000)\n",
      "Sampling:  30% (2400/8000)\n",
      "Sampling:  49% (3900/8000)\n",
      "Sampling:  69% (5500/8000)\n",
      "Sampling:  86% (6900/8000)\n",
      "Sampling: 100% (8000/8000)\n",
      "Sampling: 100% (8000/8000)\n",
      "Sampling: 100% (8000/8000), done.\n",
      "Messages received during sampling:\n",
      "  Gradient evaluation took 0.000335 seconds\n",
      "  1000 transitions using 10 leapfrog steps per transition would take 3.35 seconds.\n",
      "  Adjust your expectations accordingly!\n",
      "  Gradient evaluation took 0.000113 seconds\n",
      "  1000 transitions using 10 leapfrog steps per transition would take 1.13 seconds.\n",
      "  Adjust your expectations accordingly!\n",
      "  Gradient evaluation took 0.000123 seconds\n",
      "  1000 transitions using 10 leapfrog steps per transition would take 1.23 seconds.\n",
      "  Adjust your expectations accordingly!\n",
      "  Gradient evaluation took 0.000119 seconds\n",
      "  1000 transitions using 10 leapfrog steps per transition would take 1.19 seconds.\n",
      "  Adjust your expectations accordingly!\n"
     ]
    }
   ],
   "source": [
    "fit = posterior.sample(num_chains=4, num_samples=1000)"
   ]
  },
  {
   "cell_type": "code",
   "execution_count": 14,
   "metadata": {},
   "outputs": [],
   "source": [
    "preds = fit['alpha'] + fit['beta'] * 65 + np.random.normal(0, fit['sigma'])"
   ]
  },
  {
   "cell_type": "code",
   "execution_count": 15,
   "metadata": {},
   "outputs": [],
   "source": [
    "def predict_height(weight):\n",
    "    height_preds = fit['alpha'] + fit['beta'] * weight + np.random.normal(0, fit['sigma'])\n",
    "    mean_height = np.mean(height_preds)\n",
    "    height_interval = np.quantile(height_preds, [0.05, 0.95])\n",
    "\n",
    "    return mean_height, height_interval[0], height_interval[1]"
   ]
  },
  {
   "cell_type": "code",
   "execution_count": 16,
   "metadata": {},
   "outputs": [
    {
     "output_type": "execute_result",
     "data": {
      "text/plain": [
       "(154.55821384903706, 146.13030571976185, 162.8655278607931)"
      ]
     },
     "metadata": {},
     "execution_count": 16
    }
   ],
   "source": [
    "predict_height(45)"
   ]
  },
  {
   "cell_type": "code",
   "execution_count": 17,
   "metadata": {},
   "outputs": [],
   "source": [
    "results = pd.DataFrame()"
   ]
  },
  {
   "cell_type": "code",
   "execution_count": 18,
   "metadata": {},
   "outputs": [],
   "source": [
    "results['weight'] = [45, 40, 65, 31, 53]"
   ]
  },
  {
   "cell_type": "code",
   "execution_count": 19,
   "metadata": {},
   "outputs": [],
   "source": [
    "results['expected'], results['lower'], results['upper'] = \\\n",
    "    zip(*results['weight'].map(predict_height))"
   ]
  },
  {
   "cell_type": "code",
   "execution_count": 20,
   "metadata": {},
   "outputs": [
    {
     "output_type": "execute_result",
     "data": {
      "text/plain": [
       "   weight    expected       lower       upper\n",
       "0      45  154.607845  146.098309  162.964043\n",
       "1      40  150.115766  141.793166  158.521893\n",
       "2      65  172.401891  164.021841  180.781648\n",
       "3      31  142.293703  133.712671  150.834229\n",
       "4      53  161.712176  153.345335  169.861623"
      ],
      "text/html": "<div>\n<style scoped>\n    .dataframe tbody tr th:only-of-type {\n        vertical-align: middle;\n    }\n\n    .dataframe tbody tr th {\n        vertical-align: top;\n    }\n\n    .dataframe thead th {\n        text-align: right;\n    }\n</style>\n<table border=\"1\" class=\"dataframe\">\n  <thead>\n    <tr style=\"text-align: right;\">\n      <th></th>\n      <th>weight</th>\n      <th>expected</th>\n      <th>lower</th>\n      <th>upper</th>\n    </tr>\n  </thead>\n  <tbody>\n    <tr>\n      <th>0</th>\n      <td>45</td>\n      <td>154.607845</td>\n      <td>146.098309</td>\n      <td>162.964043</td>\n    </tr>\n    <tr>\n      <th>1</th>\n      <td>40</td>\n      <td>150.115766</td>\n      <td>141.793166</td>\n      <td>158.521893</td>\n    </tr>\n    <tr>\n      <th>2</th>\n      <td>65</td>\n      <td>172.401891</td>\n      <td>164.021841</td>\n      <td>180.781648</td>\n    </tr>\n    <tr>\n      <th>3</th>\n      <td>31</td>\n      <td>142.293703</td>\n      <td>133.712671</td>\n      <td>150.834229</td>\n    </tr>\n    <tr>\n      <th>4</th>\n      <td>53</td>\n      <td>161.712176</td>\n      <td>153.345335</td>\n      <td>169.861623</td>\n    </tr>\n  </tbody>\n</table>\n</div>"
     },
     "metadata": {},
     "execution_count": 20
    }
   ],
   "source": [
    "results"
   ]
  },
  {
   "cell_type": "code",
   "execution_count": null,
   "metadata": {},
   "outputs": [],
   "source": []
  }
 ]
}