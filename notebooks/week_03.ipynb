{
 "metadata": {
  "language_info": {
   "codemirror_mode": {
    "name": "ipython",
    "version": 3
   },
   "file_extension": ".py",
   "mimetype": "text/x-python",
   "name": "python",
   "nbconvert_exporter": "python",
   "pygments_lexer": "ipython3",
   "version": "3.8.8"
  },
  "orig_nbformat": 2,
  "kernelspec": {
   "name": "python388jvsc74a57bd098b0a9b7b4eaaa670588a142fd0a9b87eaafe866f1db4228be72b4211d12040f",
   "display_name": "Python 3.8.8 64-bit ('base': conda)"
  }
 },
 "nbformat": 4,
 "nbformat_minor": 2,
 "cells": [
  {
   "cell_type": "code",
   "execution_count": 1,
   "metadata": {},
   "outputs": [],
   "source": [
    "import numpy as np\n",
    "import pandas as pd\n",
    "from sklearn.preprocessing import StandardScaler"
   ]
  },
  {
   "cell_type": "code",
   "execution_count": 2,
   "metadata": {},
   "outputs": [],
   "source": [
    "import stan"
   ]
  },
  {
   "cell_type": "code",
   "execution_count": 3,
   "metadata": {},
   "outputs": [],
   "source": [
    "import nest_asyncio\n",
    "nest_asyncio.apply()"
   ]
  },
  {
   "cell_type": "code",
   "execution_count": 4,
   "metadata": {},
   "outputs": [],
   "source": [
    "bpath = '~/source/rethinking/'"
   ]
  },
  {
   "cell_type": "code",
   "execution_count": 5,
   "metadata": {},
   "outputs": [],
   "source": [
    "df = pd.read_csv(bpath + 'data/foxes.csv', sep=';')"
   ]
  },
  {
   "cell_type": "code",
   "execution_count": 6,
   "metadata": {},
   "outputs": [
    {
     "output_type": "execute_result",
     "data": {
      "text/plain": [
       "   group  avgfood  groupsize  area  weight\n",
       "0      1     0.37          2  1.09    5.02\n",
       "1      1     0.37          2  1.09    2.84\n",
       "2      2     0.53          2  2.05    5.33\n",
       "3      2     0.53          2  2.05    6.07\n",
       "4      3     0.49          2  2.12    5.85"
      ],
      "text/html": "<div>\n<style scoped>\n    .dataframe tbody tr th:only-of-type {\n        vertical-align: middle;\n    }\n\n    .dataframe tbody tr th {\n        vertical-align: top;\n    }\n\n    .dataframe thead th {\n        text-align: right;\n    }\n</style>\n<table border=\"1\" class=\"dataframe\">\n  <thead>\n    <tr style=\"text-align: right;\">\n      <th></th>\n      <th>group</th>\n      <th>avgfood</th>\n      <th>groupsize</th>\n      <th>area</th>\n      <th>weight</th>\n    </tr>\n  </thead>\n  <tbody>\n    <tr>\n      <th>0</th>\n      <td>1</td>\n      <td>0.37</td>\n      <td>2</td>\n      <td>1.09</td>\n      <td>5.02</td>\n    </tr>\n    <tr>\n      <th>1</th>\n      <td>1</td>\n      <td>0.37</td>\n      <td>2</td>\n      <td>1.09</td>\n      <td>2.84</td>\n    </tr>\n    <tr>\n      <th>2</th>\n      <td>2</td>\n      <td>0.53</td>\n      <td>2</td>\n      <td>2.05</td>\n      <td>5.33</td>\n    </tr>\n    <tr>\n      <th>3</th>\n      <td>2</td>\n      <td>0.53</td>\n      <td>2</td>\n      <td>2.05</td>\n      <td>6.07</td>\n    </tr>\n    <tr>\n      <th>4</th>\n      <td>3</td>\n      <td>0.49</td>\n      <td>2</td>\n      <td>2.12</td>\n      <td>5.85</td>\n    </tr>\n  </tbody>\n</table>\n</div>"
     },
     "metadata": {},
     "execution_count": 6
    }
   ],
   "source": [
    "df.head()"
   ]
  },
  {
   "cell_type": "code",
   "execution_count": 7,
   "metadata": {},
   "outputs": [],
   "source": [
    "scaler = StandardScaler()"
   ]
  },
  {
   "cell_type": "code",
   "execution_count": 8,
   "metadata": {},
   "outputs": [],
   "source": [
    "X_unscaled = df[['avgfood','groupsize','area','weight']]"
   ]
  },
  {
   "cell_type": "code",
   "execution_count": 9,
   "metadata": {},
   "outputs": [
    {
     "output_type": "execute_result",
     "data": {
      "text/plain": [
       "StandardScaler()"
      ]
     },
     "metadata": {},
     "execution_count": 9
    }
   ],
   "source": [
    "scaler.fit(X_unscaled)"
   ]
  },
  {
   "cell_type": "code",
   "execution_count": 10,
   "metadata": {},
   "outputs": [],
   "source": [
    "X_scaled = scaler.transform(X_unscaled)"
   ]
  },
  {
   "cell_type": "code",
   "execution_count": 13,
   "metadata": {},
   "outputs": [],
   "source": [
    "df_scaled = pd.DataFrame(X_scaled, columns=['avgfood','groupsize','area','weight'])"
   ]
  },
  {
   "cell_type": "code",
   "execution_count": 14,
   "metadata": {},
   "outputs": [],
   "source": [
    "df_scaled[['group']] = df[['group']]"
   ]
  },
  {
   "cell_type": "code",
   "execution_count": 15,
   "metadata": {},
   "outputs": [
    {
     "output_type": "execute_result",
     "data": {
      "text/plain": [
       "    avgfood  groupsize      area    weight  group\n",
       "0 -1.933180  -1.530701 -2.249313  0.415931      1\n",
       "1 -1.933180  -1.530701 -2.249313 -1.433238      1\n",
       "2 -1.122886  -1.530701 -1.210738  0.678887      2\n",
       "3 -1.122886  -1.530701 -1.210738  1.306586      2\n",
       "4 -1.325459  -1.530701 -1.135008  1.119973      3"
      ],
      "text/html": "<div>\n<style scoped>\n    .dataframe tbody tr th:only-of-type {\n        vertical-align: middle;\n    }\n\n    .dataframe tbody tr th {\n        vertical-align: top;\n    }\n\n    .dataframe thead th {\n        text-align: right;\n    }\n</style>\n<table border=\"1\" class=\"dataframe\">\n  <thead>\n    <tr style=\"text-align: right;\">\n      <th></th>\n      <th>avgfood</th>\n      <th>groupsize</th>\n      <th>area</th>\n      <th>weight</th>\n      <th>group</th>\n    </tr>\n  </thead>\n  <tbody>\n    <tr>\n      <th>0</th>\n      <td>-1.933180</td>\n      <td>-1.530701</td>\n      <td>-2.249313</td>\n      <td>0.415931</td>\n      <td>1</td>\n    </tr>\n    <tr>\n      <th>1</th>\n      <td>-1.933180</td>\n      <td>-1.530701</td>\n      <td>-2.249313</td>\n      <td>-1.433238</td>\n      <td>1</td>\n    </tr>\n    <tr>\n      <th>2</th>\n      <td>-1.122886</td>\n      <td>-1.530701</td>\n      <td>-1.210738</td>\n      <td>0.678887</td>\n      <td>2</td>\n    </tr>\n    <tr>\n      <th>3</th>\n      <td>-1.122886</td>\n      <td>-1.530701</td>\n      <td>-1.210738</td>\n      <td>1.306586</td>\n      <td>2</td>\n    </tr>\n    <tr>\n      <th>4</th>\n      <td>-1.325459</td>\n      <td>-1.530701</td>\n      <td>-1.135008</td>\n      <td>1.119973</td>\n      <td>3</td>\n    </tr>\n  </tbody>\n</table>\n</div>"
     },
     "metadata": {},
     "execution_count": 15
    }
   ],
   "source": [
    "df_scaled.head()"
   ]
  },
  {
   "cell_type": "code",
   "execution_count": 17,
   "metadata": {},
   "outputs": [],
   "source": [
    "model_code = \"\"\"\n",
    "data {\n",
    "  int<lower=0> N;\n",
    "  vector[N] x;\n",
    "  vector[N] y;\n",
    "}\n",
    "parameters {\n",
    "  real alpha;\n",
    "  real beta;\n",
    "  real sigma;\n",
    "}\n",
    "model {\n",
    "  y ~ normal(alpha + beta * x, sigma);\n",
    "  alpha ~ normal(0, 0.2);\n",
    "  beta ~ normal(0, 0.5);\n",
    "  sigma ~ exponential(1);\n",
    "}\n",
    "\"\"\""
   ]
  },
  {
   "cell_type": "code",
   "execution_count": 18,
   "metadata": {},
   "outputs": [],
   "source": [
    "model_data = {\n",
    "    \"N\": len(df_scaled),\n",
    "    \"x\": df_scaled['area'].to_numpy(),\n",
    "    \"y\": df_scaled['weight'].to_numpy()\n",
    "}"
   ]
  },
  {
   "cell_type": "code",
   "execution_count": 19,
   "metadata": {},
   "outputs": [
    {
     "output_type": "stream",
     "name": "stdout",
     "text": [
      "Building...\n",
      "\n",
      "Building: 52.9s, done.Messages from stanc:\n",
      "Warning at '/tmp/httpstan_z0dvjq1k/model_olqav2c4.stan', line 13, column 31 to column 36:\n",
      "  A normal distribution is given parameter sigma as a scale parameter\n",
      "  (argument 2), but sigma was not constrained to be strictly positive.\n",
      "Warning at '/tmp/httpstan_z0dvjq1k/model_olqav2c4.stan', line 16, column 2 to column 7:\n",
      "  Parameter sigma is given a exponential distribution, which has strictly\n",
      "  positive support, but sigma was not constrained to be strictly positive.\n"
     ]
    }
   ],
   "source": [
    "posterior = stan.build(model_code, data=model_data, random_seed=456)"
   ]
  },
  {
   "cell_type": "code",
   "execution_count": 20,
   "metadata": {},
   "outputs": [
    {
     "output_type": "stream",
     "name": "stderr",
     "text": [
      "Sampling:   0%\n",
      "Sampling:  25% (2000/8000)\n",
      "Sampling:  50% (4000/8000)\n",
      "Sampling:  75% (6000/8000)\n",
      "Sampling: 100% (8000/8000)\n",
      "Sampling: 100% (8000/8000), done.\n",
      "Messages received during sampling:\n",
      "  Rejecting initial value:\n",
      "    Error evaluating the log probability at the initial value.\n",
      "  Exception: normal_lpdf: Scale parameter is -1.97417, but must be positive! (in '/tmp/httpstan_95upmng9/model_olqav2c4.stan', line 13, column 2 to column 38)\n",
      "  Gradient evaluation took 0.000184 seconds\n",
      "  1000 transitions using 10 leapfrog steps per transition would take 1.84 seconds.\n",
      "  Adjust your expectations accordingly!\n",
      "  Informational Message: The current Metropolis proposal is about to be rejected because of the following issue:\n",
      "  Exception: normal_lpdf: Scale parameter is -3638.49, but must be positive! (in '/tmp/httpstan_95upmng9/model_olqav2c4.stan', line 13, column 2 to column 38)\n",
      "  If this warning occurs sporadically, such as for highly constrained variable types like covariance matrices, then the sampler is fine,\n",
      "  but if this warning occurs often then your model may be either severely ill-conditioned or misspecified.\n",
      "  Informational Message: The current Metropolis proposal is about to be rejected because of the following issue:\n",
      "  Exception: normal_lpdf: Scale parameter is -103.714, but must be positive! (in '/tmp/httpstan_95upmng9/model_olqav2c4.stan', line 13, column 2 to column 38)\n",
      "  If this warning occurs sporadically, such as for highly constrained variable types like covariance matrices, then the sampler is fine,\n",
      "  but if this warning occurs often then your model may be either severely ill-conditioned or misspecified.\n",
      "  Gradient evaluation took 0.000157 seconds\n",
      "  1000 transitions using 10 leapfrog steps per transition would take 1.57 seconds.\n",
      "  Adjust your expectations accordingly!\n",
      "  Informational Message: The current Metropolis proposal is about to be rejected because of the following issue:\n",
      "  Exception: normal_lpdf: Scale parameter is -0.736126, but must be positive! (in '/tmp/httpstan_95upmng9/model_olqav2c4.stan', line 13, column 2 to column 38)\n",
      "  If this warning occurs sporadically, such as for highly constrained variable types like covariance matrices, then the sampler is fine,\n",
      "  but if this warning occurs often then your model may be either severely ill-conditioned or misspecified.\n",
      "  Informational Message: The current Metropolis proposal is about to be rejected because of the following issue:\n",
      "  Exception: normal_lpdf: Scale parameter is -1.30706, but must be positive! (in '/tmp/httpstan_95upmng9/model_olqav2c4.stan', line 13, column 2 to column 38)\n",
      "  If this warning occurs sporadically, such as for highly constrained variable types like covariance matrices, then the sampler is fine,\n",
      "  but if this warning occurs often then your model may be either severely ill-conditioned or misspecified.\n",
      "  Gradient evaluation took 8.6e-05 seconds\n",
      "  1000 transitions using 10 leapfrog steps per transition would take 0.86 seconds.\n",
      "  Adjust your expectations accordingly!\n",
      "  Informational Message: The current Metropolis proposal is about to be rejected because of the following issue:\n",
      "  Exception: normal_lpdf: Scale parameter is -3.02091, but must be positive! (in '/tmp/httpstan_95upmng9/model_olqav2c4.stan', line 13, column 2 to column 38)\n",
      "  If this warning occurs sporadically, such as for highly constrained variable types like covariance matrices, then the sampler is fine,\n",
      "  but if this warning occurs often then your model may be either severely ill-conditioned or misspecified.\n",
      "  Informational Message: The current Metropolis proposal is about to be rejected because of the following issue:\n",
      "  Exception: normal_lpdf: Scale parameter is -3.38626, but must be positive! (in '/tmp/httpstan_95upmng9/model_olqav2c4.stan', line 13, column 2 to column 38)\n",
      "  If this warning occurs sporadically, such as for highly constrained variable types like covariance matrices, then the sampler is fine,\n",
      "  but if this warning occurs often then your model may be either severely ill-conditioned or misspecified.\n",
      "  Informational Message: The current Metropolis proposal is about to be rejected because of the following issue:\n",
      "  Exception: normal_lpdf: Scale parameter is -0.884738, but must be positive! (in '/tmp/httpstan_95upmng9/model_olqav2c4.stan', line 13, column 2 to column 38)\n",
      "  If this warning occurs sporadically, such as for highly constrained variable types like covariance matrices, then the sampler is fine,\n",
      "  but if this warning occurs often then your model may be either severely ill-conditioned or misspecified.\n",
      "  Rejecting initial value:\n",
      "    Error evaluating the log probability at the initial value.\n",
      "  Exception: normal_lpdf: Scale parameter is -0.578536, but must be positive! (in '/tmp/httpstan_95upmng9/model_olqav2c4.stan', line 13, column 2 to column 38)\n",
      "  Gradient evaluation took 0.000108 seconds\n",
      "  1000 transitions using 10 leapfrog steps per transition would take 1.08 seconds.\n",
      "  Adjust your expectations accordingly!\n",
      "  Informational Message: The current Metropolis proposal is about to be rejected because of the following issue:\n",
      "  Exception: normal_lpdf: Scale parameter is -1.93612, but must be positive! (in '/tmp/httpstan_95upmng9/model_olqav2c4.stan', line 13, column 2 to column 38)\n",
      "  If this warning occurs sporadically, such as for highly constrained variable types like covariance matrices, then the sampler is fine,\n",
      "  but if this warning occurs often then your model may be either severely ill-conditioned or misspecified.\n",
      "  Informational Message: The current Metropolis proposal is about to be rejected because of the following issue:\n",
      "  Exception: normal_lpdf: Scale parameter is -2.34023, but must be positive! (in '/tmp/httpstan_95upmng9/model_olqav2c4.stan', line 13, column 2 to column 38)\n",
      "  If this warning occurs sporadically, such as for highly constrained variable types like covariance matrices, then the sampler is fine,\n",
      "  but if this warning occurs often then your model may be either severely ill-conditioned or misspecified.\n"
     ]
    }
   ],
   "source": [
    "fit = posterior.sample(num_chains=4, num_samples=1000)"
   ]
  },
  {
   "cell_type": "code",
   "execution_count": 60,
   "metadata": {},
   "outputs": [],
   "source": [
    "def model_summary(fit, params='all', quantiles=[0.05, 0.95]):\n",
    "    output_df = pd.DataFrame()\n",
    "\n",
    "    if params == 'all':\n",
    "        params = [x for x in fit.param_names]\n",
    "\n",
    "    for param in params:\n",
    "        this_df = pd.DataFrame()\n",
    "        this_df['param'] = [param]\n",
    "        this_df['mean'] = np.mean(fit[param])\n",
    "        this_df['std'] = np.mean(fit[param])\n",
    "        this_df[[str(100*x)+'%' for x in quantiles]] = np.quantile(fit[param], quantiles)\n",
    "\n",
    "        output_df = pd.concat([output_df, this_df])\n",
    "\n",
    "    return(output_df)\n"
   ]
  },
  {
   "cell_type": "code",
   "execution_count": 61,
   "metadata": {},
   "outputs": [
    {
     "output_type": "execute_result",
     "data": {
      "text/plain": [
       "   param      mean       std      5.0%     95.0%\n",
       "0  alpha -0.001534 -0.001534 -0.148443  0.139340\n",
       "0   beta  0.017751  0.017751 -0.133111  0.175946\n",
       "0  sigma  1.017206  1.017206  0.907957  1.135846"
      ],
      "text/html": "<div>\n<style scoped>\n    .dataframe tbody tr th:only-of-type {\n        vertical-align: middle;\n    }\n\n    .dataframe tbody tr th {\n        vertical-align: top;\n    }\n\n    .dataframe thead th {\n        text-align: right;\n    }\n</style>\n<table border=\"1\" class=\"dataframe\">\n  <thead>\n    <tr style=\"text-align: right;\">\n      <th></th>\n      <th>param</th>\n      <th>mean</th>\n      <th>std</th>\n      <th>5.0%</th>\n      <th>95.0%</th>\n    </tr>\n  </thead>\n  <tbody>\n    <tr>\n      <th>0</th>\n      <td>alpha</td>\n      <td>-0.001534</td>\n      <td>-0.001534</td>\n      <td>-0.148443</td>\n      <td>0.139340</td>\n    </tr>\n    <tr>\n      <th>0</th>\n      <td>beta</td>\n      <td>0.017751</td>\n      <td>0.017751</td>\n      <td>-0.133111</td>\n      <td>0.175946</td>\n    </tr>\n    <tr>\n      <th>0</th>\n      <td>sigma</td>\n      <td>1.017206</td>\n      <td>1.017206</td>\n      <td>0.907957</td>\n      <td>1.135846</td>\n    </tr>\n  </tbody>\n</table>\n</div>"
     },
     "metadata": {},
     "execution_count": 61
    }
   ],
   "source": [
    "model_summary(fit)"
   ]
  },
  {
   "cell_type": "code",
   "execution_count": 26,
   "metadata": {},
   "outputs": [],
   "source": [
    "quantiles = [0.05, 0.25, 0.75, 0.95]"
   ]
  },
  {
   "cell_type": "code",
   "execution_count": 29,
   "metadata": {},
   "outputs": [
    {
     "output_type": "execute_result",
     "data": {
      "text/plain": [
       "['5.0%', '25.0%', '75.0%', '95.0%']"
      ]
     },
     "metadata": {},
     "execution_count": 29
    }
   ],
   "source": [
    "[str(100*x)+'%' for x in quantiles]"
   ]
  },
  {
   "cell_type": "code",
   "execution_count": 22,
   "metadata": {},
   "outputs": [
    {
     "output_type": "execute_result",
     "data": {
      "text/plain": [
       "-0.0015335424339292156"
      ]
     },
     "metadata": {},
     "execution_count": 22
    }
   ],
   "source": [
    "np.mean(fit['alpha'])"
   ]
  },
  {
   "cell_type": "code",
   "execution_count": 25,
   "metadata": {},
   "outputs": [
    {
     "output_type": "execute_result",
     "data": {
      "text/plain": [
       "array([0.9079568 , 1.13584648])"
      ]
     },
     "metadata": {},
     "execution_count": 25
    }
   ],
   "source": [
    "np.quantile(fit['sigma'],[0.05, 0.95])"
   ]
  },
  {
   "cell_type": "code",
   "execution_count": null,
   "metadata": {},
   "outputs": [],
   "source": []
  }
 ]
}